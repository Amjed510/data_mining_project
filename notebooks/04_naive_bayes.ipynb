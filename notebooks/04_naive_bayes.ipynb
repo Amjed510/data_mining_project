{
 "cells": [
  {
   "cell_type": "markdown",
   "metadata": {},
   "source": [
    "# خوارزمية Naive Bayes\n",
    "\n",
    "تصنيف المبيعات باستخدام خوارزمية Naive Bayes"
   ]
  },
  {
   "cell_type": "markdown",
   "metadata": {},
   "source": [
    "## استيراد المكتبات المطلوبة"
   ]
  },
  {
   "cell_type": "code",
   "execution_count": 3,
   "metadata": {},
   "outputs": [],
   "source": [
    "import pandas as pd\n",
    "import numpy as np\n",
    "from sklearn.naive_bayes import GaussianNB\n",
    "from sklearn.model_selection import train_test_split\n",
    "from sklearn.preprocessing import LabelEncoder, StandardScaler\n",
    "from sklearn.metrics import classification_report, confusion_matrix\n",
    "import matplotlib.pyplot as plt\n",
    "import seaborn as sns\n",
    "\n",
    "# تعيين نمط seaborn\n",
    "sns.set_style('whitegrid')\n",
    "# تعيين حجم الرسومات\n",
    "plt.rcParams['figure.figsize'] = (12, 8)"
   ]
  },
  {
   "cell_type": "markdown",
   "metadata": {},
   "source": [
    "## تحميل البيانات المعالجة"
   ]
  },
  {
   "cell_type": "code",
   "execution_count": 4,
   "metadata": {},
   "outputs": [
    {
     "data": {
      "text/html": [
       "<div>\n",
       "<style scoped>\n",
       "    .dataframe tbody tr th:only-of-type {\n",
       "        vertical-align: middle;\n",
       "    }\n",
       "\n",
       "    .dataframe tbody tr th {\n",
       "        vertical-align: top;\n",
       "    }\n",
       "\n",
       "    .dataframe thead th {\n",
       "        text-align: right;\n",
       "    }\n",
       "</style>\n",
       "<table border=\"1\" class=\"dataframe\">\n",
       "  <thead>\n",
       "    <tr style=\"text-align: right;\">\n",
       "      <th></th>\n",
       "      <th>Order_Date</th>\n",
       "      <th>Category</th>\n",
       "      <th>Region</th>\n",
       "      <th>Segment</th>\n",
       "      <th>Sales</th>\n",
       "      <th>Quantity</th>\n",
       "      <th>Discount</th>\n",
       "      <th>Profit</th>\n",
       "      <th>Year</th>\n",
       "      <th>Month</th>\n",
       "      <th>Quarter</th>\n",
       "      <th>Sales_Category</th>\n",
       "    </tr>\n",
       "  </thead>\n",
       "  <tbody>\n",
       "    <tr>\n",
       "      <th>0</th>\n",
       "      <td>2020-01-01</td>\n",
       "      <td>Technology</td>\n",
       "      <td>South</td>\n",
       "      <td>Consumer</td>\n",
       "      <td>366.800399</td>\n",
       "      <td>6</td>\n",
       "      <td>0.284533</td>\n",
       "      <td>9.524490</td>\n",
       "      <td>2020</td>\n",
       "      <td>1</td>\n",
       "      <td>1</td>\n",
       "      <td>Low</td>\n",
       "    </tr>\n",
       "    <tr>\n",
       "      <th>1</th>\n",
       "      <td>2020-01-02</td>\n",
       "      <td>Furniture</td>\n",
       "      <td>South</td>\n",
       "      <td>Home Office</td>\n",
       "      <td>556.867561</td>\n",
       "      <td>6</td>\n",
       "      <td>0.191294</td>\n",
       "      <td>37.407146</td>\n",
       "      <td>2020</td>\n",
       "      <td>1</td>\n",
       "      <td>1</td>\n",
       "      <td>Medium</td>\n",
       "    </tr>\n",
       "    <tr>\n",
       "      <th>2</th>\n",
       "      <td>2020-01-03</td>\n",
       "      <td>Technology</td>\n",
       "      <td>West</td>\n",
       "      <td>Home Office</td>\n",
       "      <td>212.152047</td>\n",
       "      <td>1</td>\n",
       "      <td>0.162915</td>\n",
       "      <td>125.708433</td>\n",
       "      <td>2020</td>\n",
       "      <td>1</td>\n",
       "      <td>1</td>\n",
       "      <td>Low</td>\n",
       "    </tr>\n",
       "    <tr>\n",
       "      <th>3</th>\n",
       "      <td>2020-01-04</td>\n",
       "      <td>Technology</td>\n",
       "      <td>East</td>\n",
       "      <td>Consumer</td>\n",
       "      <td>687.228360</td>\n",
       "      <td>5</td>\n",
       "      <td>0.118807</td>\n",
       "      <td>137.810135</td>\n",
       "      <td>2020</td>\n",
       "      <td>1</td>\n",
       "      <td>1</td>\n",
       "      <td>High</td>\n",
       "    </tr>\n",
       "    <tr>\n",
       "      <th>4</th>\n",
       "      <td>2020-01-05</td>\n",
       "      <td>Furniture</td>\n",
       "      <td>East</td>\n",
       "      <td>Home Office</td>\n",
       "      <td>147.447790</td>\n",
       "      <td>6</td>\n",
       "      <td>0.267729</td>\n",
       "      <td>-30.090084</td>\n",
       "      <td>2020</td>\n",
       "      <td>1</td>\n",
       "      <td>1</td>\n",
       "      <td>Low</td>\n",
       "    </tr>\n",
       "  </tbody>\n",
       "</table>\n",
       "</div>"
      ],
      "text/plain": [
       "   Order_Date    Category Region      Segment       Sales  Quantity  Discount  \\\n",
       "0  2020-01-01  Technology  South     Consumer  366.800399         6  0.284533   \n",
       "1  2020-01-02   Furniture  South  Home Office  556.867561         6  0.191294   \n",
       "2  2020-01-03  Technology   West  Home Office  212.152047         1  0.162915   \n",
       "3  2020-01-04  Technology   East     Consumer  687.228360         5  0.118807   \n",
       "4  2020-01-05   Furniture   East  Home Office  147.447790         6  0.267729   \n",
       "\n",
       "       Profit  Year  Month  Quarter Sales_Category  \n",
       "0    9.524490  2020      1        1            Low  \n",
       "1   37.407146  2020      1        1         Medium  \n",
       "2  125.708433  2020      1        1            Low  \n",
       "3  137.810135  2020      1        1           High  \n",
       "4  -30.090084  2020      1        1            Low  "
      ]
     },
     "execution_count": 4,
     "metadata": {},
     "output_type": "execute_result"
    }
   ],
   "source": [
    "# تحميل البيانات المعالجة\n",
    "df = pd.read_csv('../data/processed/sales_data_processed_20250122_052318.csv')\n",
    "df.head()"
   ]
  },
  {
   "cell_type": "markdown",
   "metadata": {},
   "source": [
    "## تحضير البيانات للتدريب"
   ]
  },
  {
   "cell_type": "code",
   "execution_count": 5,
   "metadata": {},
   "outputs": [],
   "source": [
    "# تشفير المتغيرات الفئوية\n",
    "le = LabelEncoder()\n",
    "categorical_cols = ['Category', 'Region', 'Segment']\n",
    "for col in categorical_cols:\n",
    "    df[f'{col}_Encoded'] = le.fit_transform(df[col])\n",
    "\n",
    "# تطبيع المتغيرات العددية\n",
    "scaler = StandardScaler()\n",
    "numeric_cols = ['Quantity', 'Discount']\n",
    "for col in numeric_cols:\n",
    "    df[f'{col}_Scaled'] = scaler.fit_transform(df[[col]])"
   ]
  },
  {
   "cell_type": "code",
   "execution_count": 6,
   "metadata": {},
   "outputs": [],
   "source": [
    "# تحديد المتغيرات المستقلة والتابع\n",
    "features = ['Year', 'Month', 'Quarter', 'Quantity_Scaled', 'Discount_Scaled',\n",
    "            'Category_Encoded', 'Region_Encoded', 'Segment_Encoded']\n",
    "\n",
    "X = df[features]\n",
    "y = df['Sales_Category']\n",
    "\n",
    "# تقسيم البيانات إلى تدريب واختبار\n",
    "X_train, X_test, y_train, y_test = train_test_split(X, y, test_size=0.2, random_state=42)"
   ]
  },
  {
   "cell_type": "markdown",
   "metadata": {},
   "source": [
    "## تدريب النموذج"
   ]
  },
  {
   "cell_type": "code",
   "execution_count": 7,
   "metadata": {},
   "outputs": [
    {
     "name": "stdout",
     "output_type": "stream",
     "text": [
      "دقة التدريب: 0.37\n",
      "دقة الاختبار: 0.30\n"
     ]
    }
   ],
   "source": [
    "# إنشاء وتدريب النموذج\n",
    "nb = GaussianNB()\n",
    "nb.fit(X_train, y_train)\n",
    "\n",
    "# حساب الدقة\n",
    "train_accuracy = nb.score(X_train, y_train)\n",
    "test_accuracy = nb.score(X_test, y_test)\n",
    "\n",
    "print(f'دقة التدريب: {train_accuracy:.2f}')\n",
    "print(f'دقة الاختبار: {test_accuracy:.2f}')"
   ]
  },
  {
   "cell_type": "markdown",
   "metadata": {},
   "source": [
    "## تقييم النموذج"
   ]
  },
  {
   "cell_type": "code",
   "execution_count": 8,
   "metadata": {},
   "outputs": [
    {
     "name": "stdout",
     "output_type": "stream",
     "text": [
      "تقرير التصنيف:\n",
      "              precision    recall  f1-score   support\n",
      "\n",
      "        High       0.32      0.42      0.36       190\n",
      "         Low       0.30      0.15      0.20       215\n",
      "      Medium       0.27      0.34      0.30       195\n",
      "\n",
      "    accuracy                           0.30       600\n",
      "   macro avg       0.30      0.30      0.29       600\n",
      "weighted avg       0.30      0.30      0.29       600\n",
      "\n"
     ]
    }
   ],
   "source": [
    "# التنبؤ على بيانات الاختبار\n",
    "y_pred = nb.predict(X_test)\n",
    "\n",
    "# عرض تقرير التصنيف\n",
    "print('تقرير التصنيف:')\n",
    "print(classification_report(y_test, y_pred))"
   ]
  },
  {
   "cell_type": "code",
   "execution_count": 9,
   "metadata": {},
   "outputs": [
    {
     "data": {
      "image/png": "[encoded data removed]",
      "text/plain": [
       "<Figure size 800x600 with 2 Axes>"
      ]
     },
     "metadata": {},
     "output_type": "display_data"
    }
   ],
   "source": [
    "# رسم مصفوفة الارتباك\n",
    "plt.figure(figsize=(8, 6))\n",
    "sns.heatmap(confusion_matrix(y_test, y_pred), annot=True, fmt='d', cmap='Blues')\n",
    "plt.title('مصفوفة الارتباك')\n",
    "plt.xlabel('التنبؤات')\n",
    "plt.ylabel('القيم الحقيقية')\n",
    "plt.show()"
   ]
  },
  {
   "cell_type": "markdown",
   "metadata": {},
   "source": [
    "## تحليل الاحتمالات"
   ]
  },
  {
   "cell_type": "code",
   "execution_count": 10,
   "metadata": {},
   "outputs": [
    {
     "name": "stderr",
     "output_type": "stream",
     "text": [
      "d:\\python\\data_mining_project\\.venv\\lib\\site-packages\\seaborn\\_oldcore.py:1498: FutureWarning: is_categorical_dtype is deprecated and will be removed in a future version. Use isinstance(dtype, CategoricalDtype) instead\n",
      "  if pd.api.types.is_categorical_dtype(vector):\n",
      "d:\\python\\data_mining_project\\.venv\\lib\\site-packages\\seaborn\\_oldcore.py:1119: FutureWarning: use_inf_as_na option is deprecated and will be removed in a future version. Convert inf values to NaN before operating instead.\n",
      "  with pd.option_context('mode.use_inf_as_na', True):\n",
      "d:\\python\\data_mining_project\\.venv\\lib\\site-packages\\seaborn\\_oldcore.py:1498: FutureWarning: is_categorical_dtype is deprecated and will be removed in a future version. Use isinstance(dtype, CategoricalDtype) instead\n",
      "  if pd.api.types.is_categorical_dtype(vector):\n",
      "d:\\python\\data_mining_project\\.venv\\lib\\site-packages\\seaborn\\_oldcore.py:1119: FutureWarning: use_inf_as_na option is deprecated and will be removed in a future version. Convert inf values to NaN before operating instead.\n",
      "  with pd.option_context('mode.use_inf_as_na', True):\n",
      "d:\\python\\data_mining_project\\.venv\\lib\\site-packages\\seaborn\\_oldcore.py:1498: FutureWarning: is_categorical_dtype is deprecated and will be removed in a future version. Use isinstance(dtype, CategoricalDtype) instead\n",
      "  if pd.api.types.is_categorical_dtype(vector):\n",
      "d:\\python\\data_mining_project\\.venv\\lib\\site-packages\\seaborn\\_oldcore.py:1119: FutureWarning: use_inf_as_na option is deprecated and will be removed in a future version. Convert inf values to NaN before operating instead.\n",
      "  with pd.option_context('mode.use_inf_as_na', True):\n"
     ]
    },
    {
     "data": {
      "image/png": "[encoded data removed]",
      "text/plain": [
       "<Figure size 1000x600 with 1 Axes>"
      ]
     },
     "metadata": {},
     "output_type": "display_data"
    }
   ],
   "source": [
    "# حساب احتمالات التصنيف\n",
    "probabilities = nb.predict_proba(X_test)\n",
    "\n",
    "# رسم توزيع الاحتمالات\n",
    "plt.figure(figsize=(10, 6))\n",
    "for i, class_name in enumerate(nb.classes_):\n",
    "    sns.kdeplot(probabilities[:, i], label=class_name)\n",
    "plt.title('توزيع احتمالات التصنيف')\n",
    "plt.xlabel('الاحتمال')\n",
    "plt.ylabel('الكثافة')\n",
    "plt.legend()\n",
    "plt.show()"
   ]
  },
  {
   "cell_type": "markdown",
   "metadata": {},
   "source": [
    "## تحليل الأخطاء"
   ]
  },
  {
   "cell_type": "code",
   "execution_count": 11,
   "metadata": {},
   "outputs": [
    {
     "name": "stdout",
     "output_type": "stream",
     "text": [
      "عدد الحالات المصنفة بشكل خاطئ: 422\n",
      "\n",
      "عينة من الحالات المصنفة بشكل خاطئ:\n"
     ]
    },
    {
     "data": {
      "text/html": [
       "<div>\n",
       "<style scoped>\n",
       "    .dataframe tbody tr th:only-of-type {\n",
       "        vertical-align: middle;\n",
       "    }\n",
       "\n",
       "    .dataframe tbody tr th {\n",
       "        vertical-align: top;\n",
       "    }\n",
       "\n",
       "    .dataframe thead th {\n",
       "        text-align: right;\n",
       "    }\n",
       "</style>\n",
       "<table border=\"1\" class=\"dataframe\">\n",
       "  <thead>\n",
       "    <tr style=\"text-align: right;\">\n",
       "      <th></th>\n",
       "      <th>Year</th>\n",
       "      <th>Month</th>\n",
       "      <th>Quarter</th>\n",
       "      <th>Quantity_Scaled</th>\n",
       "      <th>Discount_Scaled</th>\n",
       "      <th>Category_Encoded</th>\n",
       "      <th>Region_Encoded</th>\n",
       "      <th>Segment_Encoded</th>\n",
       "      <th>Actual</th>\n",
       "      <th>Predicted</th>\n",
       "    </tr>\n",
       "  </thead>\n",
       "  <tbody>\n",
       "    <tr>\n",
       "      <th>1801</th>\n",
       "      <td>2024</td>\n",
       "      <td>12</td>\n",
       "      <td>4</td>\n",
       "      <td>1.164472</td>\n",
       "      <td>1.215701</td>\n",
       "      <td>1</td>\n",
       "      <td>0</td>\n",
       "      <td>1</td>\n",
       "      <td>Low</td>\n",
       "      <td>High</td>\n",
       "    </tr>\n",
       "    <tr>\n",
       "      <th>1190</th>\n",
       "      <td>2023</td>\n",
       "      <td>4</td>\n",
       "      <td>2</td>\n",
       "      <td>-1.579151</td>\n",
       "      <td>0.232053</td>\n",
       "      <td>0</td>\n",
       "      <td>1</td>\n",
       "      <td>2</td>\n",
       "      <td>Low</td>\n",
       "      <td>Medium</td>\n",
       "    </tr>\n",
       "    <tr>\n",
       "      <th>1817</th>\n",
       "      <td>2024</td>\n",
       "      <td>12</td>\n",
       "      <td>4</td>\n",
       "      <td>1.164472</td>\n",
       "      <td>0.246455</td>\n",
       "      <td>2</td>\n",
       "      <td>0</td>\n",
       "      <td>0</td>\n",
       "      <td>Low</td>\n",
       "      <td>High</td>\n",
       "    </tr>\n",
       "    <tr>\n",
       "      <th>251</th>\n",
       "      <td>2020</td>\n",
       "      <td>9</td>\n",
       "      <td>3</td>\n",
       "      <td>1.164472</td>\n",
       "      <td>1.606595</td>\n",
       "      <td>2</td>\n",
       "      <td>1</td>\n",
       "      <td>1</td>\n",
       "      <td>High</td>\n",
       "      <td>Low</td>\n",
       "    </tr>\n",
       "    <tr>\n",
       "      <th>1411</th>\n",
       "      <td>2023</td>\n",
       "      <td>11</td>\n",
       "      <td>4</td>\n",
       "      <td>-0.403313</td>\n",
       "      <td>0.432553</td>\n",
       "      <td>1</td>\n",
       "      <td>0</td>\n",
       "      <td>2</td>\n",
       "      <td>Medium</td>\n",
       "      <td>High</td>\n",
       "    </tr>\n",
       "  </tbody>\n",
       "</table>\n",
       "</div>"
      ],
      "text/plain": [
       "      Year  Month  Quarter  Quantity_Scaled  Discount_Scaled  \\\n",
       "1801  2024     12        4         1.164472         1.215701   \n",
       "1190  2023      4        2        -1.579151         0.232053   \n",
       "1817  2024     12        4         1.164472         0.246455   \n",
       "251   2020      9        3         1.164472         1.606595   \n",
       "1411  2023     11        4        -0.403313         0.432553   \n",
       "\n",
       "      Category_Encoded  Region_Encoded  Segment_Encoded  Actual Predicted  \n",
       "1801                 1               0                1     Low      High  \n",
       "1190                 0               1                2     Low    Medium  \n",
       "1817                 2               0                0     Low      High  \n",
       "251                  2               1                1    High       Low  \n",
       "1411                 1               0                2  Medium      High  "
      ]
     },
     "execution_count": 11,
     "metadata": {},
     "output_type": "execute_result"
    }
   ],
   "source": [
    "# تحديد الحالات التي تم تصنيفها بشكل خاطئ\n",
    "misclassified = X_test[y_test != y_pred].copy()\n",
    "misclassified['Actual'] = y_test[y_test != y_pred]\n",
    "misclassified['Predicted'] = y_pred[y_test != y_pred]\n",
    "\n",
    "print('عدد الحالات المصنفة بشكل خاطئ:', len(misclassified))\n",
    "print('\\nعينة من الحالات المصنفة بشكل خاطئ:')\n",
    "misclassified.head()"
   ]
  }
 ],
 "metadata": {
  "kernelspec": {
   "display_name": ".venv",
   "language": "python",
   "name": "python3"
  },
  "language_info": {
   "codemirror_mode": {
    "name": "ipython",
    "version": 3
   },
   "file_extension": ".py",
   "mimetype": "text/x-python",
   "name": "python",
   "nbconvert_exporter": "python",
   "pygments_lexer": "ipython3",
   "version": "3.10.11"
  }
 },
 "nbformat": 4,
 "nbformat_minor": 4
}
