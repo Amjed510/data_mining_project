{
 "cells": [
  {
   "cell_type": "markdown",
   "metadata": {},
   "source": [
    "# مشروع تنقيب البيانات\n",
    "\n",
    "## المحتويات\n",
    "1. تحضير البيئة وتحميل المكتبات\n",
    "2. تحميل ومعالجة البيانات\n",
    "3. استكشاف وتحليل البيانات\n",
    "4. تطبيق خوارزمية Apriori\n",
    "5. تطبيق خوارزمية شجرة القرار\n",
    "6. تطبيق خوارزمية Naive Bayes\n",
    "7. تطبيق خوارزمية K-means\n",
    "8. تقييم النتائج وعرض التوصيات"
   ]
  },
  {
   "cell_type": "markdown",
   "metadata": {},
   "source": [
    "## 1. تحضير البيئة وتحميل المكتبات\n",
    "نقوم بتحميل المكتبات الأساسية التي سنحتاجها في المشروع"
   ]
  },
  {
   "cell_type": "code",
   "execution_count": null,
   "metadata": {},
   "source": [
    "# المكتبات الأساسية للتحليل\n",
    "import pandas as pd\n",
    "import numpy as np\n",
    "\n",
    "# مكتبات الرسم البياني\n",
    "import matplotlib.pyplot as plt\n",
    "import seaborn as sns\n",
    "\n",
    "# مكتبات التعلم الآلي\n",
    "from sklearn.preprocessing import StandardScaler, LabelEncoder\n",
    "from sklearn.model_selection import train_test_split\n",
    "from sklearn.tree import DecisionTreeClassifier\n",
    "from sklearn.naive_bayes import GaussianNB\n",
    "from sklearn.cluster import KMeans\n",
    "from mlxtend.frequent_patterns import apriori\n",
    "from mlxtend.frequent_patterns import association_rules\n",
    "\n",
    "# إعدادات العرض\n",
    "plt.style.use('seaborn')\n",
    "sns.set_palette('husl')\n",
    "%matplotlib inline\n",
    "\n",
    "# تجاهل التحذيرات\n",
    "import warnings\n",
    "warnings.filterwarnings('ignore')"
   ]
  },
  {
   "cell_type": "markdown",
   "metadata": {},
   "source": [
    "## 2. تحميل ومعالجة البيانات"
   ]
  },
  {
   "cell_type": "code",
   "execution_count": null,
   "metadata": {},
   "source": [
    "def load_data(file_path):\n",
    "    \"\"\"تحميل البيانات من الملف\"\"\"\n",
    "    df = pd.read_csv(file_path, encoding='ISO-8859-1')\n",
    "    print(f\"تم تحميل البيانات بنجاح. الأبعاد: {df.shape}\")\n",
    "    return df\n",
    "\n",
    "def clean_data(df):\n",
    "    \"\"\"تنظيف البيانات\"\"\"\n",
    "    # حذف القيم المفقودة\n",
    "    df = df.dropna()\n",
    "    \n",
    "    # حذف الطلبات الملغاة\n",
    "    df = df[~df['InvoiceNo'].astype(str).str.contains('C')]\n",
    "    \n",
    "    # حذف السجلات ذات الكمية أو السعر السالب/الصفري\n",
    "    df = df[(df['Quantity'] > 0) & (df['UnitPrice'] > 0)]\n",
    "    \n",
    "    return df\n",
    "\n",
    "def add_features(df):\n",
    "    \"\"\"إضافة خصائص جديدة\"\"\"\n",
    "    # تحويل التاريخ\n",
    "    df['InvoiceDate'] = pd.to_datetime(df['InvoiceDate'])\n",
    "    \n",
    "    # إضافة خصائص جديدة\n",
    "    df['TotalAmount'] = df['Quantity'] * df['UnitPrice']\n",
    "    df['Year'] = df['InvoiceDate'].dt.year\n",
    "    df['Month'] = df['InvoiceDate'].dt.month\n",
    "    df['DayOfWeek'] = df['InvoiceDate'].dt.dayofweek\n",
    "    df['Hour'] = df['InvoiceDate'].dt.hour\n",
    "    \n",
    "    return df\n",
    "\n",
    "# تحميل وتجهيز البيانات\n",
    "file_path = '../data/train.csv'\n",
    "try:\n",
    "    # تحميل البيانات\n",
    "    df = load_data(file_path)\n",
    "    \n",
    "    # عرض معلومات أولية عن البيانات\n",
    "    print(\"\\nمعلومات عن البيانات:\")\n",
    "    print(df.info())\n",
    "    \n",
    "    print(\"\\nإحصائيات وصفية:\")\n",
    "    print(df.describe())\n",
    "    \n",
    "    # تنظيف وتحضير البيانات\n",
    "    df = clean_data(df)\n",
    "    df = add_features(df)\n",
    "    \n",
    "    print(\"\\nحجم البيانات بعد التنظيف:\", df.shape)\n",
    "    \n",
    "except FileNotFoundError:\n",
    "    print(f\"خطأ: الملف غير موجود في المسار {file_path}\")\n",
    "except Exception as e:\n",
    "    print(f\"حدث خطأ: {str(e)}\")"
   ]
  },
  {
   "cell_type": "markdown",
   "metadata": {},
   "source": [
    "## 3. استكشاف وتحليل البيانات"
   ]
  },
  {
   "cell_type": "code",
   "execution_count": null,
   "metadata": {},
   "source": [
    "def explore_data(df):\n",
    "    \"\"\"استكشاف وتحليل البيانات\"\"\"\n",
    "    # 1. تحليل المبيعات حسب الشهر\n",
    "    plt.figure(figsize=(12, 6))\n",
    "    monthly_sales = df.groupby('Month')['TotalAmount'].sum()\n",
    "    monthly_sales.plot(kind='bar')\n",
    "    plt.title('إجمالي المبيعات حسب الشهر')\n",
    "    plt.xlabel('الشهر')\n",
    "    plt.ylabel('إجمالي المبيعات')\n",
    "    plt.show()\n",
    "    \n",
    "    # 2. تحليل المنتجات الأكثر مبيعاً\n",
    "    plt.figure(figsize=(12, 6))\n",
    "    top_products = df.groupby('Description')['Quantity'].sum().sort_values(ascending=False).head(10)\n",
    "    top_products.plot(kind='bar')\n",
    "    plt.title('أعلى 10 منتجات مبيعاً')\n",
    "    plt.xlabel('المنتج')\n",
    "    plt.ylabel('الكمية المباعة')\n",
    "    plt.xticks(rotation=45)\n",
    "    plt.show()\n",
    "    \n",
    "    # 3. تحليل المبيعات حسب الدولة\n",
    "    plt.figure(figsize=(12, 6))\n",
    "    country_sales = df.groupby('Country')['TotalAmount'].sum().sort_values(ascending=False)\n",
    "    country_sales.plot(kind='bar')\n",
    "    plt.title('المبيعات حسب الدولة')\n",
    "    plt.xlabel('الدولة')\n",
    "    plt.ylabel('إجمالي المبيعات')\n",
    "    plt.xticks(rotation=45)\n",
    "    plt.show()\n",
    "\n",
    "# تنفيذ التحليل الاستكشافي\n",
    "if 'df' in locals():\n",
    "    explore_data(df)\n",
    "else:\n",
    "    print(\"الرجاء تحميل البيانات أولاً\")"
   ]
  }
 ],
 "metadata": {
  "kernelspec": {
   "display_name": "Python 3",
   "language": "python",
   "name": "python3"
  },
  "language_info": {
   "codemirror_mode": {
    "name": "ipython",
    "version": 3
   },
   "file_extension": ".py",
   "mimetype": "text/x-python",
   "name": "python",
   "nbconvert_exporter": "python",
   "pygments_lexer": "ipython3",
   "version": "3.8.0"
  }
 },
 "nbformat": 4,
 "nbformat_minor": 4
}
