{
 "cells": [
  {
   "cell_type": "markdown",
   "metadata": {},
   "source": [
    "# تحليل البيانات\n",
    "\n",
    "في هذا الدفتر سنقوم بتحليل بيانات المبيعات لفهم الاتجاهات والأنماط."
   ]
  },
  {
   "cell_type": "code",
   "execution_count": null,
   "metadata": {},
   "source": [
    "import pandas as pd\n",
    "import numpy as np\n",
    "import matplotlib.pyplot as plt\n",
    "import seaborn as sns\n",
    "from datetime import datetime\n",
    "import os\n",
    "\n",
    "# Set style for plots\n",
    "plt.style.use('seaborn')\n",
    "sns.set_palette('husl')\n",
    "\n",
    "# Enable inline plotting\n",
    "%matplotlib inline"
   ]
  },
  {
   "cell_type": "markdown",
   "metadata": {},
   "source": [
    "## تحميل ومعالجة البيانات"
   ]
  },
  {
   "cell_type": "code",
   "execution_count": null,
   "metadata": {},
   "source": [
    "# Load data\n",
    "df = pd.read_csv('../data/train.csv')\n",
    "print(f\"Data loaded. Shape: {df.shape}\")\n",
    "\n",
    "# Display first few rows\n",
    "df.head()"
   ]
  },
  {
   "cell_type": "code",
   "execution_count": null,
   "metadata": {},
   "source": [
    "# Convert dates\n",
    "df['Order Date'] = pd.to_datetime(df['Order Date'])\n",
    "df['Ship Date'] = pd.to_datetime(df['Ship Date'])\n",
    "\n",
    "# Add features\n",
    "df['Year'] = df['Order Date'].dt.year\n",
    "df['Month'] = df['Order Date'].dt.month\n",
    "df['Day'] = df['Order Date'].dt.day\n",
    "df['DayOfWeek'] = df['Order Date'].dt.dayofweek\n",
    "df['ShippingDays'] = (df['Ship Date'] - df['Order Date']).dt.days\n",
    "\n",
    "print(\"Features added successfully.\")"
   ]
  },
  {
   "cell_type": "markdown",
   "metadata": {},
   "source": [
    "## تحليل اتجاهات المبيعات"
   ]
  },
  {
   "cell_type": "code",
   "execution_count": null,
   "metadata": {},
   "source": [
    "# Monthly sales trend\n",
    "plt.figure(figsize=(12, 6))\n",
    "monthly_sales = df.groupby(['Year', 'Month'])['Sales'].sum().reset_index()\n",
    "monthly_sales['Date'] = pd.to_datetime(monthly_sales[['Year', 'Month']].assign(DAY=1))\n",
    "plt.plot(monthly_sales['Date'], monthly_sales['Sales'])\n",
    "plt.title('Monthly Sales Trend')\n",
    "plt.xlabel('Date')\n",
    "plt.ylabel('Total Sales')\n",
    "plt.xticks(rotation=45)\n",
    "plt.tight_layout()\n",
    "plt.show()"
   ]
  },
  {
   "cell_type": "markdown",
   "metadata": {},
   "source": [
    "## تحليل توزيع الفئات"
   ]
  },
  {
   "cell_type": "code",
   "execution_count": null,
   "metadata": {},
   "source": [
    "# Category distribution\n",
    "plt.figure(figsize=(10, 6))\n",
    "category_sales = df.groupby('Category')['Sales'].sum().sort_values(ascending=False)\n",
    "category_sales.plot(kind='bar')\n",
    "plt.title('Sales by Category')\n",
    "plt.xlabel('Category')\n",
    "plt.ylabel('Total Sales')\n",
    "plt.xticks(rotation=45)\n",
    "plt.tight_layout()\n",
    "plt.show()"
   ]
  },
  {
   "cell_type": "markdown",
   "metadata": {},
   "source": [
    "## تحليل شرائح العملاء"
   ]
  },
  {
   "cell_type": "code",
   "execution_count": null,
   "metadata": {},
   "source": [
    "# Sales by segment\n",
    "plt.figure(figsize=(8, 6))\n",
    "segment_sales = df.groupby('Segment')['Sales'].sum()\n",
    "plt.pie(segment_sales, labels=segment_sales.index, autopct='%1.1f%%')\n",
    "plt.title('Sales Distribution by Customer Segment')\n",
    "plt.axis('equal')\n",
    "plt.show()"
   ]
  },
  {
   "cell_type": "markdown",
   "metadata": {},
   "source": [
    "## إحصاءات ملخصة"
   ]
  },
  {
   "cell_type": "code",
   "execution_count": null,
   "metadata": {},
   "source": [
    "# Sales statistics\n",
    "sales_stats = df['Sales'].describe()\n",
    "print(\"\\nSales Statistics:\")\n",
    "print(sales_stats)\n",
    "\n",
    "# Top 5 categories by sales\n",
    "print(\"\\nTop 5 Categories by Sales:\")\n",
    "top_categories = df.groupby('Category')['Sales'].sum().sort_values(ascending=False).head()\n",
    "print(top_categories)"
   ]
  }
 ],
 "metadata": {
  "kernelspec": {
   "display_name": "Python 3",
   "language": "python",
   "name": "python3"
  },
  "language_info": {
   "codemirror_mode": {
    "name": "ipython",
    "version": 3
   },
   "file_extension": ".py",
   "mimetype": "text/x-python",
   "name": "python",
   "nbconvert_exporter": "python",
   "pygments_lexer": "ipython3",
   "version": "3.8.0"
  }
 },
 "nbformat": 4,
 "nbformat_minor": 4
}
