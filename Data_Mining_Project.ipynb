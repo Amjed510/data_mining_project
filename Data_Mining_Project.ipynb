{
 "cells": [
  {
   "cell_type": "markdown",
   "metadata": {},
   "source": [
    "# مشروع استخراج البيانات (Data Mining Project)\n",
    "\n",
    "## المقدمة\n",
    "هذا المشروع يهدف إلى تطبيق تقنيات استخراج البيانات على مجموعة بيانات المبيعات. سنقوم بتنفيذ عدة خوارزميات وتقييم أدائها."
   ]
  },
  {
   "cell_type": "code",
   "execution_count": null,
   "metadata": {},
   "outputs": [],
   "source": [
    "# استيراد المكتبات اللازمة\n",
    "import pandas as pd\n",
    "import numpy as np\n",
    "import matplotlib.pyplot as plt\n",
    "import seaborn as sns\n",
    "from sklearn.model_selection import train_test_split, cross_val_score\n",
    "from sklearn.preprocessing import StandardScaler\n",
    "from sklearn.tree import DecisionTreeClassifier\n",
    "from sklearn.naive_bayes import GaussianNB\n",
    "from sklearn.cluster import KMeans\n",
    "from mlxtend.frequent_patterns import apriori\n",
    "from mlxtend.frequent_patterns import association_rules\n",
    "from sklearn.metrics import accuracy_score, classification_report\n",
    "\n",
    "# تعيين نمط المخططات\n",
    "plt.style.use('seaborn')\n",
    "sns.set_palette('husl')"
   ]
  },
  {
   "cell_type": "markdown",
   "metadata": {},
   "source": [
    "## الخطوة 1: تحميل البيانات"
   ]
  },
  {
   "cell_type": "code",
   "execution_count": null,
   "metadata": {},
   "outputs": [],
   "source": [
    "# تحميل البيانات\n",
    "df = pd.read_csv('data/train.csv')\n",
    "print('شكل البيانات:', df.shape)\n",
    "df.head()"
   ]
  },
  {
   "cell_type": "markdown",
   "metadata": {},
   "source": [
    "## الخطوة 2: معالجة البيانات\n",
    "\n",
    "### تنظيف البيانات"
   ]
  },
  {
   "cell_type": "code",
   "execution_count": null,
   "metadata": {},
   "outputs": [],
   "source": [
    "# فحص القيم المفقودة\n",
    "print('القيم المفقودة في كل عمود:')\n",
    "print(df.isnull().sum())\n",
    "\n",
    "# إزالة السجلات المكررة\n",
    "df = df.drop_duplicates()\n",
    "print('\\nشكل البيانات بعد إزالة التكرار:', df.shape)\n",
    "\n",
    "# معالجة التواريخ\n",
    "df['Order Date'] = pd.to_datetime(df['Order Date'])\n",
    "df['Ship Date'] = pd.to_datetime(df['Ship Date'])\n",
    "\n",
    "# إضافة ميزات جديدة\n",
    "df['Year'] = df['Order Date'].dt.year\n",
    "df['Month'] = df['Order Date'].dt.month\n",
    "df['ShippingDays'] = (df['Ship Date'] - df['Order Date']).dt.days"
   ]
  },
  {
   "cell_type": "markdown",
   "metadata": {},
   "source": [
    "## الخطوة 3: استكشاف البيانات"
   ]
  },
  {
   "cell_type": "code",
   "execution_count": null,
   "metadata": {},
   "outputs": [],
   "source": [
    "# تحليل المبيعات الشهرية\n",
    "plt.figure(figsize=(12, 6))\n",
    "monthly_sales = df.groupby(['Year', 'Month'])['Sales'].sum().reset_index()\n",
    "monthly_sales['Date'] = pd.to_datetime(monthly_sales[['Year', 'Month']].assign(DAY=1))\n",
    "plt.plot(monthly_sales['Date'], monthly_sales['Sales'])\n",
    "plt.title('اتجاه المبيعات الشهرية')\n",
    "plt.xlabel('التاريخ')\n",
    "plt.ylabel('إجمالي المبيعات')\n",
    "plt.xticks(rotation=45)\n",
    "plt.tight_layout()\n",
    "plt.show()\n",
    "\n",
    "# توزيع المبيعات حسب الفئة\n",
    "plt.figure(figsize=(10, 6))\n",
    "sns.boxplot(x='Category', y='Sales', data=df)\n",
    "plt.title('توزيع المبيعات حسب الفئة')\n",
    "plt.xticks(rotation=45)\n",
    "plt.tight_layout()\n",
    "plt.show()"
   ]
  },
  {
   "cell_type": "markdown",
   "metadata": {},
   "source": [
    "## الخطوة 4: اختيار الميزات"
   ]
  },
  {
   "cell_type": "code",
   "execution_count": null,
   "metadata": {},
   "outputs": [],
   "source": [
    "# تحديد الأعمدة المهمة\n",
    "features = ['Category', 'Sub-Category', 'Sales', 'Quantity', 'Discount', 'Profit',\n",
    "            'Segment', 'Region', 'Year', 'Month', 'ShippingDays']\n",
    "df_selected = df[features]\n",
    "\n",
    "# تحويل المتغيرات الفئوية\n",
    "categorical_cols = ['Category', 'Sub-Category', 'Segment', 'Region']\n",
    "df_encoded = pd.get_dummies(df_selected, columns=categorical_cols)"
   ]
  },
  {
   "cell_type": "markdown",
   "metadata": {},
   "source": [
    "## الخطوة 5 و 6: تنفيذ وتدريب الخوارزميات"
   ]
  },
  {
   "cell_type": "markdown",
   "metadata": {},
   "source": [
    "### 1. خوارزمية Apriori"
   ]
  },
  {
   "cell_type": "code",
   "execution_count": null,
   "metadata": {},
   "outputs": [],
   "source": [
    "# إعداد البيانات لتحليل سلة المشتريات\n",
    "basket = pd.crosstab(df['Order ID'], df['Sub-Category'])\n",
    "basket = (basket > 0).astype(int)\n",
    "\n",
    "# تطبيق خوارزمية Apriori\n",
    "frequent_itemsets = apriori(basket, min_support=0.01, use_colnames=True)\n",
    "rules = association_rules(frequent_itemsets, metric=\"lift\", min_threshold=1)\n",
    "print('\\nTop 5 Association Rules:')\n",
    "print(rules.sort_values('lift', ascending=False).head())"
   ]
  },
  {
   "cell_type": "markdown",
   "metadata": {},
   "source": [
    "### 2. شجرة القرار"
   ]
  },
  {
   "cell_type": "code",
   "execution_count": null,
   "metadata": {},
   "outputs": [],
   "source": [
    "# إعداد البيانات للتصنيف\n",
    "# سنقوم بتصنيف المنتجات إلى فئات ربحية (عالية/منخفضة)\n",
    "df_encoded['Profit_Category'] = (df_encoded['Profit'] > df_encoded['Profit'].median()).astype(int)\n",
    "\n",
    "X = df_encoded.drop(['Sales', 'Profit', 'Profit_Category'], axis=1)\n",
    "y = df_encoded['Profit_Category']\n",
    "\n",
    "# تقسيم البيانات\n",
    "X_train, X_test, y_train, y_test = train_test_split(X, y, test_size=0.2, random_state=42)\n",
    "\n",
    "# تدريب نموذج شجرة القرار\n",
    "dt_model = DecisionTreeClassifier(random_state=42)\n",
    "dt_model.fit(X_train, y_train)\n",
    "\n",
    "# التنبؤ وتقييم النموذج\n",
    "dt_pred = dt_model.predict(X_test)\n",
    "print('\\nDecision Tree Results:')\n",
    "print(classification_report(y_test, dt_pred))"
   ]
  },
  {
   "cell_type": "markdown",
   "metadata": {},
   "source": [
    "### 3. خوارزمية Naive Bayes"
   ]
  },
  {
   "cell_type": "code",
   "execution_count": null,
   "metadata": {},
   "outputs": [],
   "source": [
    "# تدريب نموذج Naive Bayes\n",
    "nb_model = GaussianNB()\n",
    "nb_model.fit(X_train, y_train)\n",
    "\n",
    "# التنبؤ وتقييم النموذج\n",
    "nb_pred = nb_model.predict(X_test)\n",
    "print('\\nNaive Bayes Results:')\n",
    "print(classification_report(y_test, nb_pred))"
   ]
  },
  {
   "cell_type": "markdown",
   "metadata": {},
   "source": [
    "### 4. خوارزمية K-means"
   ]
  },
  {
   "cell_type": "code",
   "execution_count": null,
   "metadata": {},
   "outputs": [],
   "source": [
    "# إعداد البيانات للتجميع\n",
    "cluster_features = ['Sales', 'Quantity', 'Discount', 'Profit']\n",
    "X_cluster = df[cluster_features]\n",
    "\n",
    "# تطبيع البيانات\n",
    "scaler = StandardScaler()\n",
    "X_cluster_scaled = scaler.fit_transform(X_cluster)\n",
    "\n",
    "# تطبيق خوارزمية K-means\n",
    "kmeans = KMeans(n_clusters=4, random_state=42)\n",
    "clusters = kmeans.fit_predict(X_cluster_scaled)\n",
    "\n",
    "# تحليل النتائج\n",
    "df['Cluster'] = clusters\n",
    "cluster_stats = df.groupby('Cluster')[cluster_features].mean()\n",
    "print('\\nCluster Statistics:')\n",
    "print(cluster_stats)"
   ]
  },
  {
   "cell_type": "markdown",
   "metadata": {},
   "source": [
    "## الخطوة 7: تقييم النماذج باستخدام Cross-Validation"
   ]
  },
  {
   "cell_type": "code",
   "execution_count": null,
   "metadata": {},
   "outputs": [],
   "source": [
    "# تقييم نموذج شجرة القرار\n",
    "dt_scores = cross_val_score(dt_model, X, y, cv=5)\n",
    "print('Decision Tree CV Scores:', dt_scores)\n",
    "print('Average CV Score:', dt_scores.mean())\n",
    "\n",
    "# تقييم نموذج Naive Bayes\n",
    "nb_scores = cross_val_score(nb_model, X, y, cv=5)\n",
    "print('\\nNaive Bayes CV Scores:', nb_scores)\n",
    "print('Average CV Score:', nb_scores.mean())"
   ]
  },
  {
   "cell_type": "markdown",
   "metadata": {},
   "source": [
    "## الخلاصة\n",
    "\n",
    "في هذا المشروع، قمنا بتنفيذ وتقييم أربع خوارزميات مختلفة:\n",
    "\n",
    "1. **خوارزمية Apriori**: تم استخدامها لاكتشاف قواعد الارتباط بين المنتجات.\n",
    "2. **شجرة القرار**: تم استخدامها للتنبؤ بفئات الربحية.\n",
    "3. **Naive Bayes**: تم استخدامها أيضاً للتصنيف وتحليل الأداء.\n",
    "4. **K-means**: تم استخدامها لتجميع المنتجات بناءً على خصائصها.\n",
    "\n",
    "كل خوارزمية قدمت رؤى مختلفة حول البيانات وساعدت في فهم أنماط المبيعات والربحية بشكل أفضل."
   ]
  }
 ],
 "metadata": {
  "kernelspec": {
   "display_name": "Python 3",
   "language": "python",
   "name": "python3"
  },
  "language_info": {
   "codemirror_mode": {
    "name": "ipython",
    "version": 3
   },
   "file_extension": ".py",
   "mimetype": "text/x-python",
   "name": "python",
   "nbconvert_exporter": "python",
   "pygments_lexer": "ipython3",
   "version": "3.8.0"
  }
 },
 "nbformat": 4,
 "nbformat_minor": 4
}
